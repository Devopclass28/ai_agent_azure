{
  "cells": [
    {
      "cell_type": "markdown",
      "id": "72d4ac29",
      "metadata": {},
      "source": [
        "# 🍏 Fun & Fit Health Advisor Agent Tutorial 🍎\n",
        "\n",
        "Welcome to our **Fun & Fit Health Advisor Agent** tutorial, where you'll use **Azure AI Foundry** SDKs to create a playful (yet carefully disclaimed!) health and fitness assistant. We'll:\n",
        "\n",
        "1. **Initialize** our project using **azure-ai-projects**.\n",
        "2. **Create an Agent** specialized in providing general wellness and nutritional advice (with disclaimers!).\n",
        "3. **Manage conversations** about fitness, nutrition, and general health topics.\n",
        "4. **Showcase logging and tracing** with **OpenTelemetry**.\n",
        "5. **Demonstrate** how to incorporate tools, safety disclaimers, and basic best practices.\n",
        "\n",
        "### ⚠️ Important Medical Disclaimer ⚠️\n",
        "> **The health information provided by this notebook is for general educational and entertainment purposes only and is not intended as a substitute for professional medical advice, diagnosis, or treatment.** Always seek the advice of your physician or other qualified health provider with any questions you may have regarding a medical condition. Never disregard professional medical advice or delay seeking it because of something you read or receive from this notebook.\n",
        "\n",
        "\n"
      ]
    },
    {
      "cell_type": "markdown",
      "id": "e2e31c56",
      "metadata": {},
      "source": [
        "## 1. Initial Setup\n",
        "We'll start by importing needed libraries, loading environment variables, and initializing an **AIProjectClient** so we can do all the agent-related actions. Let's do it! 🎉\n"
      ]
    },
    {
      "cell_type": "code",
      "execution_count": 4,
      "id": "bc2b306e",
      "metadata": {},
      "outputs": [
        {
          "name": "stdout",
          "output_type": "stream",
          "text": [
            "Found cred.json at: /workspaces/Azure-ai-foundry01/cred.json\n",
            "Project Endpoint: https://sarath-8734-resource.services.ai.azure.com/api/projects/sarath-8734\n",
            "Model Deployment ID: gpt-4o\n",
            "✅ Successfully initialized AIProjectClient\n"
          ]
        }
      ],
      "source": [
        "# Import required libraries\n",
        "import os  # For environment variables and path operations\n",
        "import time  # For adding delays if needed\n",
        "from pathlib import Path  # For cross-platform path handling\n",
        "import json\n",
        "\n",
        "\n",
        "# Import Azure and utility libraries\n",
        "from azure.identity import DefaultAzureCredential  # For Azure authentication\n",
        "from azure.ai.projects import AIProjectClient  # Main client for AI Projects\n",
        "\n",
        "def find_cred_json(start_path):\n",
        "    current = Path(start_path)\n",
        "    while current != current.parent:\n",
        "        cred_file = current / 'cred.json'\n",
        "        if cred_file.exists():\n",
        "            return str(cred_file)\n",
        "        current = current.parent\n",
        "    return None\n",
        "\n",
        "start_dir = os.getcwd()  # Use current directory\n",
        "file_path = find_cred_json(start_dir)\n",
        "\n",
        "print(f\"Found cred.json at: {file_path}\")\n",
        "\n",
        "try:\n",
        "    with open(file_path, 'r') as f:\n",
        "        loaded_config = json.load(f)\n",
        "\n",
        "    print(\"Project Endpoint:\", loaded_config['PROJECT_ENDPOINT'])\n",
        "    print(\"Model Deployment ID:\", loaded_config['MODEL_DEPLOYMENT_NAME'])\n",
        "\n",
        "    project_client = AIProjectClient(\n",
        "    credential=DefaultAzureCredential(),\n",
        "    endpoint=loaded_config[\"PROJECT_ENDPOINT\"],\n",
        "    )\n",
        "\n",
        "    print(\"✅ Successfully initialized AIProjectClient\")\n",
        "\n",
        "except FileNotFoundError:\n",
        "    print(f\"❌ Could not find file at: {file_path}\")\n",
        "except json.JSONDecodeError:\n",
        "    print(\"❌ File exists but contains invalid JSON\")\n",
        "except TypeError:\n",
        "    print(\"❌ File path was None — cred.json not found in any parent directories.\")\n"
      ]
    },
    {
      "cell_type": "markdown",
      "id": "7f5aceb0",
      "metadata": {},
      "source": [
        "## 2. Creating our Fun & Fit Health Advisor Agent 🏋️\n",
        "\n",
        "We'll create an Agent specialized in general health and wellness. We'll explicitly mention disclaimers in its instructions, so it never forgets to keep it safe! The instructions also ask the agent to focus on general fitness, dietary tips, and always encourage the user to seek professional advice.\n"
      ]
    },
    {
      "cell_type": "code",
      "execution_count": 5,
      "id": "157d067c",
      "metadata": {
        "execution": {}
      },
      "outputs": [
        {
          "name": "stdout",
          "output_type": "stream",
          "text": [
            "🎉 Created health advisor agent, ID: asst_fLv7hapk1BuVkjNNJsjyD6nm\n"
          ]
        }
      ],
      "source": [
        "def create_health_advisor_agent():\n",
        "    \"\"\"Create a health advisor agent with disclaimers and basic instructions.\"\"\"\n",
        "    try:\n",
        "        # Get the model name from environment variables, default to gpt-4o-mini if not set\n",
        "        model_name = os.environ.get(\"MODEL_DEPLOYMENT_NAME\", \"gpt-4o\")\n",
        "\n",
        "        # Create a new agent using the AIProjectClient\n",
        "        # The agent will use the specified model and follow the given instructions\n",
        "        agent = project_client.agents.create_agent(\n",
        "            model=model_name,\n",
        "            name=\"fun-fit-health-advisor\",\n",
        "            # Define the agent's behavior and responsibilities\n",
        "            instructions=\"\"\"\n",
        "            You are a friendly AI Health Advisor.\n",
        "            You provide general health, fitness, and nutrition information, but always:\n",
        "            1. Include medical disclaimers.\n",
        "            2. Encourage the user to consult healthcare professionals.\n",
        "            3. Provide general, non-diagnostic advice around wellness, diet, and fitness.\n",
        "            4. Clearly remind them you're not a doctor.\n",
        "            5. Encourage safe and balanced approaches to exercise and nutrition.\n",
        "            \"\"\"\n",
        "        )\n",
        "        # Log success and return the created agent\n",
        "        print(f\"🎉 Created health advisor agent, ID: {agent.id}\")\n",
        "        return agent\n",
        "    except Exception as e:\n",
        "        # Handle any errors during agent creation\n",
        "        print(f\"❌ Error creating agent: {str(e)}\")\n",
        "        return None\n",
        "\n",
        "# Create an instance of our health advisor agent\n",
        "health_advisor = create_health_advisor_agent()"
      ]
    },
    {
      "cell_type": "markdown",
      "id": "5fb1cb05",
      "metadata": {},
      "source": [
        "## 3. Managing Our Health Conversations 💬\n",
        "A conversation (or *thread*) is where we'll store the user's messages and the agent's responses about health topics. Let's create a new thread dedicated to Health & Fitness Q&A.\n"
      ]
    },
    {
      "cell_type": "code",
      "execution_count": 9,
      "id": "955161b9",
      "metadata": {},
      "outputs": [
        {
          "name": "stdout",
          "output_type": "stream",
          "text": [
            "📝 Created a new conversation thread, ID: thread_YEJct9rjEsJ43A9JLZAoGglT\n"
          ]
        }
      ],
      "source": [
        "def start_health_conversation():\n",
        "    try:\n",
        "        thread = project_client.agents.threads.create()\n",
        "        print(f\"📝 Created a new conversation thread, ID: {thread.id}\")\n",
        "        return thread\n",
        "    except Exception as e:\n",
        "        print(f\"❌ Error creating thread: {e}\")\n",
        "        return None\n",
        "    \n",
        "health_thread = start_health_conversation()\n"
      ]
    },
    {
      "cell_type": "markdown",
      "id": "1bb2ad90",
      "metadata": {},
      "source": [
        "## 4. Asking Health & Fitness Questions 🏃‍♂️\n",
        "We'll create messages from the user about typical health questions. For example, **\"How do I calculate my BMI?\"** or **\"What's a balanced meal for an active lifestyle?\"**. We'll let our Health Advisor Agent respond, always remembering that disclaimer!\n"
      ]
    },
    {
      "cell_type": "code",
      "execution_count": 10,
      "id": "235b237b",
      "metadata": {},
      "outputs": [],
      "source": [
        "def ask_health_question(thread_id, user_question):\n",
        "    try:\n",
        "        return project_client.agents.messages.create(\n",
        "            thread_id=thread_id,\n",
        "            role=\"user\",\n",
        "            content=user_question\n",
        "        )\n",
        "    except Exception as e:\n",
        "        print(f\"❌ Error adding user message: {e}\")\n",
        "        return None\n",
        "\n",
        "def process_thread_run(thread_id, agent_id):\n",
        "    try:\n",
        "        run = project_client.agents.runs.create(\n",
        "            thread_id=thread_id,\n",
        "            agent_id=agent_id\n",
        "        )\n",
        "        while run.status in [\"queued\", \"in_progress\", \"requires_action\"]:\n",
        "            time.sleep(1)\n",
        "            run = project_client.agents.runs.get(\n",
        "                thread_id=thread_id,\n",
        "                run_id=run.id\n",
        "            )\n",
        "        print(f\"🤖 Run completed with status: {run.status}\")\n",
        "        return run\n",
        "    except Exception as e:\n",
        "        print(f\"❌ Error processing thread run: {e}\")\n",
        "        return None\n",
        "\n",
        "def view_thread_messages(thread_id):\n",
        "    try:\n",
        "        messages = project_client.agents.messages.list(thread_id=thread_id)\n",
        "        print(\"\\n🗣️ Conversation so far (oldest to newest):\")\n",
        "        for m in messages:\n",
        "            print(f\"{m.role.upper()}: {m.content}\\n\")\n",
        "        print(\"-----------------------------------\\n\")\n",
        "    except Exception as e:\n",
        "        print(f\"❌ Error viewing thread: {e}\")"
      ]
    },
    {
      "cell_type": "markdown",
      "id": "d0865cdf",
      "metadata": {},
      "source": [
        "### Example Queries\n",
        "Let's do some quick queries now to see the agent's disclaimers and how it handles typical health questions. We'll ask about **BMI** and about **balanced meal** for an active lifestyle.\n"
      ]
    },
    {
      "cell_type": "code",
      "execution_count": 11,
      "id": "8357bc8f",
      "metadata": {},
      "outputs": [
        {
          "name": "stdout",
          "output_type": "stream",
          "text": [
            "🤖 Run completed with status: RunStatus.COMPLETED\n",
            "🤖 Run completed with status: RunStatus.COMPLETED\n",
            "\n",
            "🗣️ Conversation so far (oldest to newest):\n",
            "ASSISTANT: [{'type': 'text', 'text': {'value': \"Of course! A balanced meal plan helps fuel your body, keep energy levels stable, and support recovery for someone exercising three times a week. Below is a **general, healthy, and balanced meal plan**. This plan is customizable and intended for a person exercising moderately (e.g., strength training, cardio, or other 30-60 minute sessions). The exact portions will vary based on specific caloric needs, gender, activity level, and fitness goals (weight loss, maintenance, or gain).\\n\\n---\\n\\n### **General Guidelines for Balanced Meals**:\\n1. **Macros**:\\n   - **Carbohydrates (40-50%)**: Fuel your exercise and keep energy up.\\n   - **Protein (20-30%)**: Supports muscle repair and recovery.\\n   - **Fats (20-30%)**: For overall health and sustained energy.\\n   \\n2. **Hydration**:\\n   - Drink plenty of water throughout the day.\\n   - Before, during, and after exercise, hydrate as needed (~2-3 liters daily, based on individual needs).\\n\\n3. **Meal Timing**:\\n   - Aim to eat every 3-4 hours for consistent energy.\\n   - Time meals to include carbs and protein pre- and post-exercise.\\n\\n---\\n\\n### **Sample Meal Plan (3 Balanced Meals + 2-3 Snacks)**\\n\\n---\\n\\n#### **Breakfast** (Pre-exercise or post-exercise)\\nFocus on complex carbs, lean protein, and a bit of healthy fat.\\n\\n- **Oatmeal Bowl**:\\n  - Rolled oats with almond milk or yogurt\\n  - Toppings: Banana or berries, chia seeds/flaxseeds, and a drizzle of almond butter\\n- 1 boiled or scrambled egg for extra protein\\n- Coffee or tea (optional)\\n\\n---\\n\\n#### **Mid-Morning Snack**\\nLight fuel between meals.\\n\\n- **Greek Yogurt Parfait**: \\n  - Non-fat or low-fat Greek yogurt with granola and fresh berries\\n- A handful of mixed nuts (e.g., almonds, walnuts)\\n\\n---\\n\\n#### **Lunch**\\nBalanced with lean protein, complex carbs, vegetables, and healthy fats.\\n\\n- **Grilled Chicken with Quinoa Bowl**:\\n  - Grilled chicken breast (or tofu for a vegetarian option)\\n  - 1/3 - 1/2 cup quinoa or brown rice\\n  - Steamed or roasted veggies (broccoli, bell peppers, carrots, etc.)\\n  - 1 tablespoon olive oil or avocado slices\\n- Optional dressing: Lemon-tahini sauce or balsamic vinaigrette\\n\\n---\\n\\n#### **Afternoon Snack**\\nA protein and carb boost to maintain energy.\\n\\n- 1 apple with natural peanut butter\\n- OR a whole-grain protein bar (check for low sugar and natural ingredients)\\n- Note: If you're exercising after work, this snack serves as a pre-workout meal!\\n\\n---\\n\\n#### **Dinner**\\nFocus on recovery after exercise: Protein, anti-inflammatory foods, and fiber.\\n\\n- **Salmon and Sweet Potato**:\\n  - Grilled or baked salmon filet (or chicken/thigh for variety)\\n  - 1 medium sweet potato (baked or mashed, light on butter)\\n  - 1-2 cups of steamed spinach or kale sautéed with olive oil and garlic\\n- Optional: Side salad with olive oil and lemon dressing\\n\\n---\\n\\n#### **Evening Snack (Optional)**\\nTo curb late-night hunger or during heavy workout weeks.\\n\\n- Cottage cheese with sliced peaches or pineapple chunks\\n- OR a small smoothie with protein powder, frozen fruit, and almond milk\\n- OR a handful of roasted chickpeas\\n\\n---\\n\\n### **Tips for Meal Prep & Personalization**:\\n1. **Pre-Plan Meals**: Cook proteins, grains, and veggies in bulk at the start of the week.\\n2. **Add Variety**:\\n   - Swap proteins (e.g., eggs, fish, chicken, tofu, or tempeh).\\n   - Rotate grains (e.g., quinoa, brown rice, or whole-grain pasta).\\n   - Try different healthy fats (e.g., nuts, seeds, olive oil, or avocados).\\n3. **Recovery Focus**: Include lean protein (chicken, fish, eggs, yogurt) plus a quick-digesting carb (banana, oats, etc.) within 1-2 hours after exercising.\\n\\n---\\n\\n### **Special Considerations**:\\n- If your goal is **weight loss**, reduce portion sizes, especially for carbs.\\n- If you want to **gain muscle**, add more protein and slightly increase overall calories.\\n- For vegetarians/vegans: Incorporate plant-based proteins (e.g., beans, lentils, tofu, tempeh, seitan, or plant-based protein powders) alongside whole grains.\\n\\n---\\n\\n**Disclaimer**: This is a general meal plan and not tailored to specific dietary needs, allergies, or medical conditions. Consult a registered dietitian or healthcare provider for personalized advice that aligns with your unique goals and health status. 😊 Stay balanced and enjoy your journey to health!\", 'annotations': []}}]\n",
            "\n",
            "USER: [{'type': 'text', 'text': {'value': 'Can you give me a balanced meal plan for someone who exercises 3x a week?', 'annotations': []}}]\n",
            "\n",
            "ASSISTANT: [{'type': 'text', 'text': {'value': 'Calculating your Body Mass Index (BMI) is straightforward, and it can provide a general idea about whether your weight falls within a healthy range for your height. However, BMI is only a tool and does not account for differences in muscle, bone density, or fat distribution. Here\\'s how to calculate it and what it means:\\n\\n---\\n\\n### **How to Calculate BMI**\\n1. **BMI Formula**: \\n   \\\\[\\n   BMI = \\\\frac{\\\\text{weight (kg)}}{\\\\text{height (m)}^2}\\n   \\\\]\\n\\n   If you measure your height in meters (m) and your weight in kilograms (kg), you can directly plug the values into this formula.\\n\\n   Alternatively:\\n   - If you use pounds (lbs) for weight and inches (in) for height, use this formula:\\n     \\\\[\\n     BMI = \\\\frac{\\\\text{weight (lbs)} \\\\times 703}{\\\\text{height (in)}^2}\\n     \\\\]\\n\\n2. **Example Calculation**:\\n   - For a person weighing **70 kg** and 1.75 m tall:\\n     \\\\[\\n     BMI = \\\\frac{70}{1.75 \\\\times 1.75} = 22.86\\n     \\\\]\\n\\n   - For someone weighing **165 lbs** and 68 inches tall (5\\'8\"):\\n     \\\\[\\n     BMI = \\\\frac{165 \\\\times 703}{68 \\\\times 68} = 25.1\\n     \\\\]\\n\\n---\\n\\n### **What BMI Means (for adults aged 18-65)**:\\nBMI categories are based on World Health Organization (WHO) guidelines:\\n\\n- **Underweight**: BMI < 18.5\\n- **Normal weight**: BMI 18.5–24.9\\n- **Overweight**: BMI 25.0–29.9\\n- **Obesity**:\\n  - Class I: BMI 30.0–34.9\\n  - Class II: BMI 35.0–39.9\\n  - Class III: BMI ≥ 40.0\\n\\n---\\n\\n### **Limitations of BMI:**\\n- **Does not differentiate** between fat, muscle, or bone. Athletes or muscular individuals may have a higher BMI but not excess fat.\\n- It doesn\\'t account for age, sex, or specific health factors.\\n- BMI does not measure fat distribution, which is an important risk factor for health problems.\\n\\n---\\n\\n### **How to Use BMI:**\\n- **Screening tool**: BMI can help you and your healthcare provider assess whether further testing or lifestyle changes might benefit your health.\\n- **Balanced assessment**: Pair BMI with other measures, such as waist circumference, body fat percentage, and overall fitness.\\n\\n---\\n\\n### Final Notes:\\nBMI is only one indicator of health and should not replace a professional\\'s assessment. If you’re concerned about your weight or health, consider speaking with a healthcare provider for personalized advice.  \\n\\n**Reminder**: I’m not a doctor, so my advice is for informational purposes. Always consult a professional before making major changes to your diet, exercise, or health regime! 😊', 'annotations': []}}]\n",
            "\n",
            "USER: [{'type': 'text', 'text': {'value': 'How do I calculate my BMI, and what does it mean?', 'annotations': []}}]\n",
            "\n",
            "-----------------------------------\n",
            "\n"
          ]
        }
      ],
      "source": [
        "if health_advisor and health_thread:\n",
        "    ask_health_question(health_thread.id, \"How do I calculate my BMI, and what does it mean?\")\n",
        "    process_thread_run(health_thread.id, health_advisor.id)\n",
        "    ask_health_question(health_thread.id, \"Can you give me a balanced meal plan for someone who exercises 3x a week?\")\n",
        "    process_thread_run(health_thread.id, health_advisor.id)\n",
        "    view_thread_messages(health_thread.id)\n",
        "else:\n",
        "    print(\"❌ Setup incomplete – agent or thread is missing.\")\n"
      ]
    },
    {
      "cell_type": "markdown",
      "id": "b2729872",
      "metadata": {},
      "source": [
        "## 5. Cleanup 🧹\n",
        "If you'd like to remove your agent from the service once finished, you can do so below. (In production, you might keep your agent around for stateful experiences!)"
      ]
    },
    {
      "cell_type": "code",
      "execution_count": null,
      "id": "820fa511",
      "metadata": {},
      "outputs": [],
      "source": [
        "def cleanup(agent):\n",
        "    if agent:\n",
        "        try:\n",
        "            project_client.agents.delete_agent(agent.id)\n",
        "            print(f\"🗑️ Deleted health advisor agent: {agent.name}\")\n",
        "        except Exception as e:\n",
        "            print(f\"❌ Error cleaning up agent: {e}\")\n",
        "    else:\n",
        "        print(\"No agent to clean up.\")\n",
        "\n",
        "cleanup(health_advisor)"
      ]
    },
    {
      "cell_type": "markdown",
      "id": "5263afbe",
      "metadata": {},
      "source": [
        "# Congratulations! 🏆\n",
        "You've successfully built a **Fun & Fit Health Advisor** that can:\n",
        "1. **Respond** to basic health and fitness questions.\n",
        "2. **Use disclaimers** to encourage safe, professional consultation.\n",
        "3. **Provide** general diet and wellness information.\n",
        "4. **Use** the synergy of **Azure AI Foundry** modules to power the conversation.\n",
        "\n",
        "## Next Steps\n",
        "- Explore adding more advanced tools (like **FileSearchTool** or **CodeInterpreterTool**) to provide more specialized info.\n",
        "- Evaluate your AI's performance with **azure-ai-evaluation**!\n",
        "- Add **OpenTelemetry** or Azure Monitor for deeper insights.\n",
        "- Incorporate **function calling** if you want to handle things like advanced calculation or direct data analysis.\n",
        "\n",
        "Happy (healthy) coding! 💪"
      ]
    }
  ],
  "metadata": {
    "kernelspec": {
      "display_name": "Azure-ai-foundry01",
      "language": "python",
      "name": "python3"
    },
    "language_info": {
      "codemirror_mode": {
        "name": "ipython",
        "version": 3
      },
      "file_extension": ".py",
      "mimetype": "text/x-python",
      "name": "python",
      "nbconvert_exporter": "python",
      "pygments_lexer": "ipython3",
      "version": "3.12.1"
    }
  },
  "nbformat": 4,
  "nbformat_minor": 5
}
